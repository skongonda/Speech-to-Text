{
 "cells": [
  {
   "cell_type": "code",
   "execution_count": 1,
   "metadata": {},
   "outputs": [],
   "source": [
    "#import Packages\n",
    "from gtts import gTTS"
   ]
  },
  {
   "cell_type": "markdown",
   "metadata": {},
   "source": [
    "### Write some random text in English and convert it to an audio file"
   ]
  },
  {
   "cell_type": "code",
   "execution_count": 3,
   "metadata": {},
   "outputs": [],
   "source": [
    "tts=gTTS('Victory is on the line, so as History on the line',lang='en')\n",
    "tts.save('D:\\Lab Setup\\speech-to-text\\AudioFiles\\MultilingualSpeech\\Victory.mp3')"
   ]
  },
  {
   "cell_type": "markdown",
   "metadata": {},
   "source": [
    "### Write 'hello bonjour' in english & then french to 'hello_bonjour'"
   ]
  },
  {
   "cell_type": "code",
   "execution_count": 4,
   "metadata": {},
   "outputs": [],
   "source": [
    "\n",
    "tts_en=gTTS('hello',lang='en')\n",
    "tts_fr=gTTS('bonjour',lang='fr')\n",
    "with open('D:\\Lab Setup\\speech-to-text\\AudioFiles\\MultilingualSpeech\\hello_bonjour.mp3','wb') as f:\n",
    "    tts_en.write_to_fp(f)\n",
    "    tts_fr.write_to_fp(f)"
   ]
  }
 ],
 "metadata": {
  "kernelspec": {
   "display_name": "Python 3",
   "language": "python",
   "name": "python3"
  },
  "language_info": {
   "codemirror_mode": {
    "name": "ipython",
    "version": 3
   },
   "file_extension": ".py",
   "mimetype": "text/x-python",
   "name": "python",
   "nbconvert_exporter": "python",
   "pygments_lexer": "ipython3",
   "version": "3.8.0"
  }
 },
 "nbformat": 4,
 "nbformat_minor": 2
}
