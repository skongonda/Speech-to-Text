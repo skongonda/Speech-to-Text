{
 "cells": [
  {
   "cell_type": "code",
   "execution_count": 6,
   "metadata": {},
   "outputs": [],
   "source": [
    "#Import Packages\n",
    "import speech_recognition as sr\n",
    "r=sr.Recognizer()"
   ]
  },
  {
   "cell_type": "markdown",
   "metadata": {},
   "source": [
    "### Using record() to capture Data from audio file"
   ]
  },
  {
   "cell_type": "code",
   "execution_count": 21,
   "metadata": {},
   "outputs": [],
   "source": [
    "text_data=sr.AudioFile('AudioFiles\\\\data\\\\stop\\\\0ab3b47d_nohash_0.wav')"
   ]
  },
  {
   "cell_type": "code",
   "execution_count": 22,
   "metadata": {},
   "outputs": [],
   "source": [
    "with text_data as source:\n",
    "    r.adjust_for_ambient_noise(source)\n",
    "    audio = r.record(source)"
   ]
  },
  {
   "cell_type": "code",
   "execution_count": null,
   "metadata": {},
   "outputs": [],
   "source": [
    "# with sr.AudioFile(r'D:\\Lab Setup\\speech-to-text\\AudioFiles\\data\\sheila\\0b40aa8e_nohash_0.wav') as source:\n",
    "#     audio = r.record(source)"
   ]
  },
  {
   "cell_type": "code",
   "execution_count": 23,
   "metadata": {},
   "outputs": [
    {
     "name": "stdout",
     "output_type": "stream",
     "text": [
      "<class 'speech_recognition.audio.AudioData'>\n"
     ]
    }
   ],
   "source": [
    "print(type(audio))"
   ]
  },
  {
   "cell_type": "code",
   "execution_count": 24,
   "metadata": {},
   "outputs": [
    {
     "name": "stdout",
     "output_type": "stream",
     "text": [
      "Google Speech Recognition could not understand the audio\n",
      "Sphinx recognition result: uh\n"
     ]
    }
   ],
   "source": [
    "try:\n",
    "    text = r.recognize_google(audio, language=\"en-US\")\n",
    "    print(\"Google Speech Recognition result:\", text)\n",
    "except sr.UnknownValueError:\n",
    "    print(\"Google Speech Recognition could not understand the audio\")\n",
    "    try:\n",
    "        text = r.recognize_sphinx(audio)\n",
    "        print(\"Sphinx recognition result:\", text)\n",
    "    except sr.UnknownValueError:\n",
    "        print(\"Sphinx could not understand the audio\")\n",
    "    except sr.RequestError as e:\n",
    "        print(f\"Sphinx error; {e}\")\n",
    "except sr.RequestError as e:\n",
    "    print(f\"Could not request results from Google Speech Recognition service; {e}\")"
   ]
  },
  {
   "cell_type": "markdown",
   "metadata": {},
   "source": [
    "### Speech Translation"
   ]
  },
  {
   "cell_type": "code",
   "execution_count": 25,
   "metadata": {},
   "outputs": [],
   "source": [
    "from googletrans import Translator"
   ]
  },
  {
   "cell_type": "code",
   "execution_count": 26,
   "metadata": {},
   "outputs": [],
   "source": [
    "translator=Translator()"
   ]
  },
  {
   "cell_type": "code",
   "execution_count": 27,
   "metadata": {},
   "outputs": [
    {
     "data": {
      "text/plain": [
       "<googletrans.models.Translated at 0x20d9c03ad30>"
      ]
     },
     "execution_count": 27,
     "metadata": {},
     "output_type": "execute_result"
    }
   ],
   "source": [
    "translator.translate(text,dest='la')"
   ]
  },
  {
   "cell_type": "code",
   "execution_count": 28,
   "metadata": {},
   "outputs": [
    {
     "name": "stdout",
     "output_type": "stream",
     "text": [
      "Translated(src=en, dest=la, text=ium, pronunciation=None, extra_data=\"{'confiden...\")\n"
     ]
    }
   ],
   "source": [
    "print(translator.translate(text,dest='la'))"
   ]
  }
 ],
 "metadata": {
  "kernelspec": {
   "display_name": "Python 3",
   "language": "python",
   "name": "python3"
  },
  "language_info": {
   "codemirror_mode": {
    "name": "ipython",
    "version": 3
   },
   "file_extension": ".py",
   "mimetype": "text/x-python",
   "name": "python",
   "nbconvert_exporter": "python",
   "pygments_lexer": "ipython3",
   "version": "3.8.0"
  }
 },
 "nbformat": 4,
 "nbformat_minor": 2
}
