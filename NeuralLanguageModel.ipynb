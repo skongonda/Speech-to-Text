{
 "cells": [
  {
   "cell_type": "markdown",
   "metadata": {},
   "source": [
    "**Importing Libraries**"
   ]
  },
  {
   "cell_type": "code",
   "execution_count": null,
   "metadata": {},
   "outputs": [],
   "source": [
    "import numpy as np\n",
    "import pandas as pd\n",
    "from keras.utils import to_categorical\n",
    "from keras.preprocessing.sequence import pad_sequences\n",
    "from keras.models import Sequential\n",
    "from keras.layers import Dense, LSTM, Embedding, GRU\n",
    "from keras.callbacks import ModelCheckpoint"
   ]
  },
  {
   "cell_type": "markdown",
   "metadata": {},
   "source": [
    "**Pre-processing the Text Data**"
   ]
  },
  {
   "cell_type": "code",
   "execution_count": 6,
   "metadata": {},
   "outputs": [],
   "source": [
    "import re\n",
    "\n",
    "def text_cleaner(text):\n",
    "    # lower case text\n",
    "    newString = text.lower()\n",
    "    newString = re.sub(r\"'s\\b\",\"\",newString)\n",
    "    # remove punctuations\n",
    "    newString = re.sub(\"[^a-zA-Z]\", \" \", newString)\n",
    "    long_words=[]\n",
    "    # remove short word\n",
    "    for i in newString.split():\n",
    "        if len(i)>=3:                  \n",
    "            long_words.append(i)\n",
    "    return (\" \".join(long_words)).strip()"
   ]
  },
  {
   "cell_type": "code",
   "execution_count": null,
   "metadata": {},
   "outputs": [
    {
     "name": "stdout",
     "output_type": "stream",
     "text": [
      "once upon time land far far away there lived small but courageous cat named whiskers she would often spring and pounce chasing dappled shadows curious lights illuminating path towards hidden treasures her adventures she encounter dark creatures mystical spells and ally unexpected lightning fast and slow moving one step time whiskers would overcome each trial victorious and unyielding she return her cozy abode majestically purring with contentment\n"
     ]
    }
   ],
   "source": [
    "data = \"\"\"Once upon a TIME, in a LAND far, FAR away—there LIVED a smAll but COURAGEOUS cat named WhiskerS! ShE would ofTen sPriNg and Pounce, chasing dappled shadows & curious LIGHTS: illuminating a PATH towards hidden TREASURES. In her AdVenturEs, she'd encounter dArK creatures, mystical SPELLS, and ALLY unexpected, LIGHTNING-FAST and slow-moving, one step at a time, WhiskerS wOuld OVERCOME each trial. Victorious and UNYIELDING, she'd return to her cozy abode, MAJESTICALLY PURRING with contentment.\"\"\"\n",
    "\n",
    "# preprocess the text\n",
    "data_new = text_cleaner(data)\n",
    "print(data_new)"
   ]
  },
  {
   "cell_type": "code",
   "execution_count": null,
   "metadata": {},
   "outputs": [],
   "source": []
  }
 ],
 "metadata": {
  "kernelspec": {
   "display_name": "Python 3",
   "language": "python",
   "name": "python3"
  },
  "language_info": {
   "codemirror_mode": {
    "name": "ipython",
    "version": 3
   },
   "file_extension": ".py",
   "mimetype": "text/x-python",
   "name": "python",
   "nbconvert_exporter": "python",
   "pygments_lexer": "ipython3",
   "version": "3.8.0"
  }
 },
 "nbformat": 4,
 "nbformat_minor": 2
}
